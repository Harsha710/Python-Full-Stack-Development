{
  "nbformat": 4,
  "nbformat_minor": 0,
  "metadata": {
    "colab": {
      "name": "Project1.ipynb",
      "provenance": [],
      "authorship_tag": "ABX9TyO3kAiXdqj255y9F1HAoLON",
      "include_colab_link": true
    },
    "kernelspec": {
      "name": "python3",
      "display_name": "Python 3"
    },
    "language_info": {
      "name": "python"
    }
  },
  "cells": [
    {
      "cell_type": "markdown",
      "metadata": {
        "id": "view-in-github",
        "colab_type": "text"
      },
      "source": [
        "<a href=\"https://colab.research.google.com/github/Harsha710/Python-Full-Stack-Development/blob/main/Project1.ipynb\" target=\"_parent\"><img src=\"https://colab.research.google.com/assets/colab-badge.svg\" alt=\"Open In Colab\"/></a>"
      ]
    },
    {
      "cell_type": "code",
      "execution_count": 2,
      "metadata": {
        "colab": {
          "base_uri": "https://localhost:8080/"
        },
        "id": "WCx33-E8dp2B",
        "outputId": "0dd5c075-e732-446c-eedb-f2789e105eb6"
      },
      "outputs": [
        {
          "output_type": "stream",
          "name": "stdout",
          "text": [
            "Write your name: Harsha\n",
            "Write your class: 14\n",
            "Write your roll.no: 2110030064\n",
            "Write your farther's name: Srinivasa Rao\n",
            "Write your hobbies: Playing games\n",
            "Hello World\n",
            "1. My name is  Harsha\n",
            "2. I'm studying in class  14\n",
            "3. My roll.no is  2110030064\n",
            "4. My Father's name is  Srinivasa Rao\n",
            "5. My hobbies are  Playing games\n"
          ]
        }
      ],
      "source": [
        "a = input(\"Write your name: \")\n",
        "b = int(input(\"Write your class: \"))\n",
        "c = int(input(\"Write your roll.no: \"))\n",
        "d = input(\"Write your farther's name: \")\n",
        "e = input(\"Write your hobbies: \")\n",
        "print(\"Hello World\")\n",
        "print(\"1. My name is \",a)\n",
        "print(\"2. I'm studying in class \",b)\n",
        "print(\"3. My roll.no is \",c)\n",
        "print(\"4. My Father's name is \",d)\n",
        "print(\"5. My hobbies are \",e)"
      ]
    }
  ]
}