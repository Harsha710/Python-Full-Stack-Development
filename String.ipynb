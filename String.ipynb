{
  "nbformat": 4,
  "nbformat_minor": 0,
  "metadata": {
    "colab": {
      "name": "String.ipynb",
      "provenance": [],
      "authorship_tag": "ABX9TyMnym5C5xps4eF0sLlOE8rb",
      "include_colab_link": true
    },
    "kernelspec": {
      "name": "python3",
      "display_name": "Python 3"
    },
    "language_info": {
      "name": "python"
    }
  },
  "cells": [
    {
      "cell_type": "markdown",
      "metadata": {
        "id": "view-in-github",
        "colab_type": "text"
      },
      "source": [
        "<a href=\"https://colab.research.google.com/github/Harsha710/Python-Full-Stack-Development/blob/main/String.ipynb\" target=\"_parent\"><img src=\"https://colab.research.google.com/assets/colab-badge.svg\" alt=\"Open In Colab\"/></a>"
      ]
    },
    {
      "cell_type": "code",
      "execution_count": 2,
      "metadata": {
        "colab": {
          "base_uri": "https://localhost:8080/"
        },
        "id": "7jKjBXyQWf9Q",
        "outputId": "57461ef8-7d11-4de6-ea1e-e163801bf7f1"
      },
      "outputs": [
        {
          "output_type": "stream",
          "name": "stdout",
          "text": [
            "Enter NameHarsha\n",
            "Welcome  Harsha\n",
            "6\n",
            "s\n",
            "H\n"
          ]
        }
      ],
      "source": [
        "name=input(\"Enter Name\")\n",
        "print(\"Welcome \",name)\n",
        "print(len(name))\n",
        "print(max(name))\n",
        "print(min(name))"
      ]
    },
    {
      "cell_type": "code",
      "source": [
        "a=\"Hai \"\n",
        "b=\"How are you?\"\n",
        "c=a+b\n",
        "print(c)"
      ],
      "metadata": {
        "colab": {
          "base_uri": "https://localhost:8080/"
        },
        "id": "qZS5eIvSaU_R",
        "outputId": "af02e706-f9dd-4e81-d26b-5153f01ff568"
      },
      "execution_count": 3,
      "outputs": [
        {
          "output_type": "stream",
          "name": "stdout",
          "text": [
            "Hai How are you?\n"
          ]
        }
      ]
    },
    {
      "cell_type": "code",
      "source": [
        "print(\"Python \"*10)"
      ],
      "metadata": {
        "colab": {
          "base_uri": "https://localhost:8080/"
        },
        "id": "pLvSChYSa3no",
        "outputId": "fcc8b2eb-d75a-4b97-f091-e2c1d79c90b7"
      },
      "execution_count": 4,
      "outputs": [
        {
          "output_type": "stream",
          "name": "stdout",
          "text": [
            "Python Python Python Python Python Python Python Python Python Python \n"
          ]
        }
      ]
    },
    {
      "cell_type": "code",
      "source": [
        "str1=\"green\"\n",
        "str2=\"black\"\n",
        "print(\"Is bot Equal: \", str1==str2)\n",
        "print(\"Is str1>str2: \",str1>str2)\n",
        "print(\"Is str1<str2: \",str1<str2)"
      ],
      "metadata": {
        "colab": {
          "base_uri": "https://localhost:8080/"
        },
        "id": "AfYKL2TkbCbv",
        "outputId": "fecc457e-47b7-43fa-a34c-c993bea821ca"
      },
      "execution_count": 6,
      "outputs": [
        {
          "output_type": "stream",
          "name": "stdout",
          "text": [
            "Is bot Equal:  False\n",
            "Is str1>str2:  True\n",
            "Is str1<str2:  False\n"
          ]
        }
      ]
    },
    {
      "cell_type": "code",
      "source": [
        "print(\"My name is %s and i secured %d marks in python\" %(\"harsha\", 99))"
      ],
      "metadata": {
        "colab": {
          "base_uri": "https://localhost:8080/"
        },
        "id": "TuDDi2HfbCmb",
        "outputId": "319d9e04-1d36-436b-f1b1-49d63993a038"
      },
      "execution_count": 7,
      "outputs": [
        {
          "output_type": "stream",
          "name": "stdout",
          "text": [
            "My name is harsha and i secured 99 marks in python\n"
          ]
        }
      ]
    },
    {
      "cell_type": "code",
      "source": [
        "str=input(\"Enter any string: \")\n",
        "print(\"String Capitalized: \",str.capitalize())\n",
        "print(\"String lower case: \",str.lower())\n",
        "print(\"String upper case: \",str.upper())\n",
        "print(\"String title case: \",str.title())\n",
        "print(\"String swap case: \",str.swapcase())\n",
        "print(\"String replace case: \",str.replace(\"python\",\"python programming\"))"
      ],
      "metadata": {
        "colab": {
          "base_uri": "https://localhost:8080/"
        },
        "id": "B1tWRIkvgVdG",
        "outputId": "ff38d5d8-1ac8-4531-d337-e07c7e58f8ec"
      },
      "execution_count": 14,
      "outputs": [
        {
          "output_type": "stream",
          "name": "stdout",
          "text": [
            "Enter any string: python\n",
            "String Capitalized:  Python\n",
            "String lower case:  python\n",
            "String upper case:  PYTHON\n",
            "String title case:  Python\n",
            "String swap case:  PYTHON\n",
            "String replace case:  python programming\n"
          ]
        }
      ]
    },
    {
      "cell_type": "code",
      "source": [
        "a=input(\"Enter any string: \")\n",
        "print(\"Centre alignment: \",a.center(20))\n",
        "print(\"Left alignment: \",a.ljust(20))\n",
        "print(\"Right alignment: \",a.rjust(20))"
      ],
      "metadata": {
        "colab": {
          "base_uri": "https://localhost:8080/"
        },
        "id": "dhi0B-e2i2be",
        "outputId": "60f16665-95f5-4e7e-afb1-53a93b4b1404"
      },
      "execution_count": 18,
      "outputs": [
        {
          "output_type": "stream",
          "name": "stdout",
          "text": [
            "Enter any string: harsha\n",
            "Centre alignment:         harsha       \n",
            "Left alignment:  harsha              \n",
            "Right alignment:                harsha\n"
          ]
        }
      ]
    },
    {
      "cell_type": "code",
      "source": [
        "a=input(\"Enter any string: \")\n",
        "print(\"Left space trim: \",a.lstrip())\n",
        "print(\"Right space trim: \",a.rstrip())\n",
        "print(\"Left and Right trim: \",a.strip())"
      ],
      "metadata": {
        "colab": {
          "base_uri": "https://localhost:8080/"
        },
        "id": "ZAHJ577-jlAy",
        "outputId": "aca2a0cf-407d-4801-ed18-74b67f627f74"
      },
      "execution_count": 1,
      "outputs": [
        {
          "output_type": "stream",
          "name": "stdout",
          "text": [
            "Enter any string: harsha\n",
            "Left space trim:  harsha\n",
            "Right space trim:  harsha\n",
            "Left and Right trim:  harsha\n"
          ]
        }
      ]
    },
    {
      "cell_type": "code",
      "source": [
        "a=input(\"Enter any string: \")\n",
        "print(\"Alphanumeric: \",a.isalnum())\n",
        "print(\"Alphabetic: \",a.isalpha())\n",
        "print(\"Digits: \",a.isdigit())\n",
        "print(\"Lowercase: \",a.islower())\n",
        "print(\"Upper: \",a.isupper())"
      ],
      "metadata": {
        "colab": {
          "base_uri": "https://localhost:8080/"
        },
        "id": "e7jbliKQkvVc",
        "outputId": "3ea036fc-8218-49a7-c9cd-e704ad18c974"
      },
      "execution_count": 2,
      "outputs": [
        {
          "output_type": "stream",
          "name": "stdout",
          "text": [
            "Enter any string: harsha\n",
            "Alphanumeric:  True\n",
            "Alphabetic:  True\n",
            "Digits:  False\n",
            "Lowercase:  True\n",
            "Upper:  False\n"
          ]
        }
      ]
    }
  ]
}