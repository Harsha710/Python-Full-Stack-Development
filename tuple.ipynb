{
  "nbformat": 4,
  "nbformat_minor": 0,
  "metadata": {
    "colab": {
      "name": "tuple.ipynb",
      "provenance": [],
      "authorship_tag": "ABX9TyMZzVGpDGVw5n2jhLfdcgJ4",
      "include_colab_link": true
    },
    "kernelspec": {
      "name": "python3",
      "display_name": "Python 3"
    },
    "language_info": {
      "name": "python"
    }
  },
  "cells": [
    {
      "cell_type": "markdown",
      "metadata": {
        "id": "view-in-github",
        "colab_type": "text"
      },
      "source": [
        "<a href=\"https://colab.research.google.com/github/Harsha710/Python-Full-Stack-Development/blob/main/tuple.ipynb\" target=\"_parent\"><img src=\"https://colab.research.google.com/assets/colab-badge.svg\" alt=\"Open In Colab\"/></a>"
      ]
    },
    {
      "cell_type": "code",
      "execution_count": 1,
      "metadata": {
        "colab": {
          "base_uri": "https://localhost:8080/"
        },
        "id": "_weDENjfvclS",
        "outputId": "b8b8de0a-df7b-477c-9481-10ad1e88ee77"
      },
      "outputs": [
        {
          "output_type": "stream",
          "name": "stdout",
          "text": [
            "<class 'str'>\n"
          ]
        }
      ],
      "source": [
        "my_tuple = (\"helo\")\n",
        "\n",
        "print(type(my_tuple))"
      ]
    },
    {
      "cell_type": "code",
      "source": [
        "my_tuple = (\"helo\",)\n",
        "\n",
        "print(type(my_tuple))"
      ],
      "metadata": {
        "colab": {
          "base_uri": "https://localhost:8080/"
        },
        "id": "x-YHSfPFwZj2",
        "outputId": "37e0fda6-ab34-4737-f1ad-f47bd7966a32"
      },
      "execution_count": 2,
      "outputs": [
        {
          "output_type": "stream",
          "name": "stdout",
          "text": [
            "<class 'tuple'>\n"
          ]
        }
      ]
    },
    {
      "cell_type": "code",
      "source": [
        "my_tuple = \"helo\",\n",
        "\n",
        "print(type(my_tuple))"
      ],
      "metadata": {
        "colab": {
          "base_uri": "https://localhost:8080/"
        },
        "id": "-PCZ02DOwfRb",
        "outputId": "86255edb-e096-46f7-efd4-16bc30190f14"
      },
      "execution_count": 3,
      "outputs": [
        {
          "output_type": "stream",
          "name": "stdout",
          "text": [
            "<class 'tuple'>\n"
          ]
        }
      ]
    },
    {
      "cell_type": "code",
      "source": [
        "n_tuple = (\"SIKANDER\", [8,4,6], (1,2,3))\n",
        "print(n_tuple[0])\n",
        "print(n_tuple[1])\n",
        "print(n_tuple[0][0])\n",
        "print(n_tuple[1][0])"
      ],
      "metadata": {
        "colab": {
          "base_uri": "https://localhost:8080/"
        },
        "id": "hJvyKiu-xMVZ",
        "outputId": "5cc6b418-0b3f-47bd-896d-fec143841039"
      },
      "execution_count": 4,
      "outputs": [
        {
          "output_type": "stream",
          "name": "stdout",
          "text": [
            "SIKANDER\n",
            "[8, 4, 6]\n",
            "S\n",
            "8\n"
          ]
        }
      ]
    }
  ]
}