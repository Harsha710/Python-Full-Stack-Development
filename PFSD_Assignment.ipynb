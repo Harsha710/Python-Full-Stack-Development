{
  "nbformat": 4,
  "nbformat_minor": 0,
  "metadata": {
    "colab": {
      "name": "PFSD Assignment.ipynb",
      "provenance": [],
      "authorship_tag": "ABX9TyPx4m1w75MGvHz/Ab25Xk3T",
      "include_colab_link": true
    },
    "kernelspec": {
      "name": "python3",
      "display_name": "Python 3"
    },
    "language_info": {
      "name": "python"
    }
  },
  "cells": [
    {
      "cell_type": "markdown",
      "metadata": {
        "id": "view-in-github",
        "colab_type": "text"
      },
      "source": [
        "<a href=\"https://colab.research.google.com/github/Harsha710/Python-Full-Stack-Development/blob/main/PFSD_Assignment.ipynb\" target=\"_parent\"><img src=\"https://colab.research.google.com/assets/colab-badge.svg\" alt=\"Open In Colab\"/></a>"
      ]
    },
    {
      "cell_type": "code",
      "execution_count": null,
      "metadata": {
        "colab": {
          "base_uri": "https://localhost:8080/"
        },
        "id": "O2DkeBCGqVNv",
        "outputId": "d45e3827-4aeb-4722-e08c-e7521f648a89"
      },
      "outputs": [
        {
          "output_type": "stream",
          "name": "stdout",
          "text": [
            "ENTER STUDENT NAMEharsha\n",
            "ENTER STUDENT ID2110030064\n",
            "ENTER STUDENT BRANCHcse\n",
            "ENTER STUDENT SECTION4\n",
            "Student name: harsha\n",
            "Student id: 2110030064\n",
            "Student branch: cse\n",
            "Student section:  4\n"
          ]
        }
      ],
      "source": [
        "class cse():\n",
        "    a=0\n",
        "    b=0\n",
        "    c=0\n",
        "    d=0\n",
        "    def set(self,a,b,c,d):\n",
        "        self.a=a\n",
        "        self.b=b\n",
        "        \n",
        "        self.c=c\n",
        "        self.d=d\n",
        "    def print(self):\n",
        "        print(\"Student name:\",self.a)\n",
        "        print(\"Student id:\",self.b)\n",
        "        print(\"Student branch:\",self.c)\n",
        "        print(\"Student section: \",self.d)\n",
        "c1=cse()\n",
        "a=input(\"ENTER STUDENT NAME\")\n",
        "b=int(input(\"ENTER STUDENT ID\"))\n",
        "c=input(\"ENTER STUDENT BRANCH\")\n",
        "d=input(\"ENTER STUDENT SECTION\")\n",
        "c1.set(a,b,c,d)\n",
        "c1.print()\n"
      ]
    },
    {
      "cell_type": "code",
      "source": [
        "class bms():\n",
        "    a=0\n",
        "    b=0\n",
        "    c=0\n",
        "    d=0\n",
        "    def set(self,a,b,c,d):\n",
        "        self.a=a\n",
        "        self.b=b\n",
        "        self.c=c\n",
        "        self.d=d\n",
        "    def print(self):\n",
        "        print(\"Customer name and age:  \",self.a,self.b)\n",
        "        print(\"Customer acc no:\",self.c)\n",
        "        print(\"Customer acc balance:\",self.d)\n",
        "class withdrawal(bms):\n",
        "    def drawprint(self,d,x):\n",
        "        y=int(d)-int(x)\n",
        "        print(\"Account Balance:\",y)\n",
        "class deposit(bms):\n",
        "    def withset(self,d,x):\n",
        "        c=int(d)+int(x)\n",
        "        print(\"Account Balance:\",c)\n",
        "a=input(\"ENTER YOUR NAME:\")\n",
        "b=int(input(\"ENTER YOUR AGE\"))\n",
        "c=int(input(\"ENTER YOUR ACCOUNT NUMBER\"))\n",
        "d=int(input(\"ENTER ACCOUNT BALANCE\"))\n",
        "n=int(input(\"ENTER OPTION 1.WITHDRAWAL 2.DEPOSIT\"))\n",
        "if(n==1):\n",
        "    obj=withdrawal()\n",
        "    obj.set(a,b,c,d)\n",
        "    obj.print()\n",
        "    x=int(input(\"ENTER AMOUNT TO WITHDRAWAL\"))\n",
        "    obj.drawprint(d,x)\n",
        "elif(n==2):\n",
        "    obj=deposit()\n",
        "    obj.set(a,b,c,d)\n",
        "    obj.print()\n",
        "    x = int(input(\"ENTER AMOUNT TO DEPOSIT\"))\n",
        "    obj.withset(d,x)\n",
        "else:\n",
        "    print(\"INVALID INPUT\")\n"
      ],
      "metadata": {
        "colab": {
          "base_uri": "https://localhost:8080/"
        },
        "id": "flaMjyDoqq_y",
        "outputId": "bdde900f-bd58-4ca2-8810-26c70fb5f555"
      },
      "execution_count": null,
      "outputs": [
        {
          "output_type": "stream",
          "name": "stdout",
          "text": [
            "ENTER YOUR NAME:harsha\n",
            "ENTER YOUR AGE19\n",
            "ENTER YOUR ACCOUNT NUMBER24356789\n",
            "ENTER ACCOUNT BALANCE50000\n",
            "ENTER OPTION 1.WITHDRAWAL 2.DEPOSIT1\n",
            "Customer name and age:   harsha 19\n",
            "Customer acc no: 24356789\n",
            "Customer acc balance: 50000\n",
            "ENTER AMOUNT TO WITHDRAWAL2500\n",
            "Account Balance: 47500\n"
          ]
        }
      ]
    },
    {
      "cell_type": "code",
      "source": [
        "class student1():\n",
        "    def init(self):\n",
        "        name=input(\"enter the name of Student\")\n",
        "        self.name=name\n",
        "        ID=int(input(\"Enter the ID\"))\n",
        "        self.ID=ID\n",
        "        sec=int(input(\"enter the section\"))\n",
        "        self.sec=sec\n",
        "        print(\"choose the option whether regular or honors from below list\")\n",
        "        print(\"Honors or Regular\")\n",
        "        num=input(\"enter the type of section you belong to\")\n",
        "        print(\"---------------CSE Student Profile------------------ \")\n",
        "        print(\"name of the Student is\", name)\n",
        "        print(\"Id of the student \",ID)\n",
        "        print(\"section of the student is\", sec)\n",
        "        print(\"student belongs to\", num)\n",
        "class Attendance():\n",
        "        print(\"enter the held classes in percentage in 1st subject\")\n",
        "        held1=int(input())\n",
        "        print(\"enter the attended classes in percentage in 1st subject\")\n",
        "        attend1=int(input())\n",
        "        print(\"classes conducted is \", held1)\n",
        "        print(\"classes attended is \", attend1)\n",
        "        print(\"enter the held classes in percentage in 2nd subject\")\n",
        "        held2=int(input())\n",
        "        print(\"enter the attended classes in percentage in 2nd subject\")\n",
        "        attend2=int(input())\n",
        "        print(\"classes conducted is \", held2)\n",
        "        print(\"classes attended is \", attend2)\n",
        "        print(\"enter the held classes in percentage in 3rd subject\")\n",
        "        held3=int(input())\n",
        "        print(\"enter the attended classes in percentage in 3rd subject\")\n",
        "        attend3=int(input())\n",
        "        print(\"classes conducted is \", held3)\n",
        "        print(\"classes attended is \", attend3)\n",
        "class marks():\n",
        "            print(\"enter three subjects marks\")\n",
        "            m1=int(input())\n",
        "            m2=int(input())\n",
        "            m3=int(input())\n",
        "            cgpa=float(input(\"enter gpa\"))\n",
        "            print(\"Three subjects marks are\", m1,m2,m3)\n",
        "            print(\"GPA is\",cgpa)\n",
        "\n",
        "    \n",
        "        \n",
        "c=student1()\n",
        "b=Attendance()\n",
        "e=marks()\n"
      ],
      "metadata": {
        "colab": {
          "base_uri": "https://localhost:8080/"
        },
        "id": "9Lt9YAD6qxOG",
        "outputId": "7df8b05d-590e-47fa-dc28-9d378842102c"
      },
      "execution_count": 1,
      "outputs": [
        {
          "output_type": "stream",
          "name": "stdout",
          "text": [
            "enter the held classes in percentage in 1st subject\n",
            "5\n",
            "enter the attended classes in percentage in 1st subject\n",
            "87\n",
            "classes conducted is  5\n",
            "classes attended is  87\n",
            "enter the held classes in percentage in 2nd subject\n",
            "8\n",
            "enter the attended classes in percentage in 2nd subject\n",
            "90\n",
            "classes conducted is  8\n",
            "classes attended is  90\n",
            "enter the held classes in percentage in 3rd subject\n",
            "9\n",
            "enter the attended classes in percentage in 3rd subject\n",
            "93\n",
            "classes conducted is  9\n",
            "classes attended is  93\n",
            "enter three subjects marks\n",
            "90\n",
            "45\n",
            "95\n",
            "enter gpa8.7\n",
            "Three subjects marks are 90 45 95\n",
            "GPA is 8.7\n"
          ]
        }
      ]
    }
  ]
}