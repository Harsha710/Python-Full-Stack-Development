{
  "nbformat": 4,
  "nbformat_minor": 0,
  "metadata": {
    "colab": {
      "name": "PFSD Assignment.ipynb",
      "provenance": [],
      "authorship_tag": "ABX9TyOaAocLL4rUgmH54asDWPp6",
      "include_colab_link": true
    },
    "kernelspec": {
      "name": "python3",
      "display_name": "Python 3"
    },
    "language_info": {
      "name": "python"
    }
  },
  "cells": [
    {
      "cell_type": "markdown",
      "metadata": {
        "id": "view-in-github",
        "colab_type": "text"
      },
      "source": [
        "<a href=\"https://colab.research.google.com/github/Harsha710/Python-Full-Stack-Development/blob/main/PFSD_Assignment.ipynb\" target=\"_parent\"><img src=\"https://colab.research.google.com/assets/colab-badge.svg\" alt=\"Open In Colab\"/></a>"
      ]
    },
    {
      "cell_type": "code",
      "execution_count": 2,
      "metadata": {
        "colab": {
          "base_uri": "https://localhost:8080/"
        },
        "id": "O2DkeBCGqVNv",
        "outputId": "d45e3827-4aeb-4722-e08c-e7521f648a89"
      },
      "outputs": [
        {
          "output_type": "stream",
          "name": "stdout",
          "text": [
            "ENTER STUDENT NAMEharsha\n",
            "ENTER STUDENT ID2110030064\n",
            "ENTER STUDENT BRANCHcse\n",
            "ENTER STUDENT SECTION4\n",
            "Student name: harsha\n",
            "Student id: 2110030064\n",
            "Student branch: cse\n",
            "Student section:  4\n"
          ]
        }
      ],
      "source": [
        "class cse():\n",
        "    a=0\n",
        "    b=0\n",
        "    c=0\n",
        "    d=0\n",
        "    def set(self,a,b,c,d):\n",
        "        self.a=a\n",
        "        self.b=b\n",
        "        \n",
        "        self.c=c\n",
        "        self.d=d\n",
        "    def print(self):\n",
        "        print(\"Student name:\",self.a)\n",
        "        print(\"Student id:\",self.b)\n",
        "        print(\"Student branch:\",self.c)\n",
        "        print(\"Student section: \",self.d)\n",
        "c1=cse()\n",
        "a=input(\"ENTER STUDENT NAME\")\n",
        "b=int(input(\"ENTER STUDENT ID\"))\n",
        "c=input(\"ENTER STUDENT BRANCH\")\n",
        "d=input(\"ENTER STUDENT SECTION\")\n",
        "c1.set(a,b,c,d)\n",
        "c1.print()\n"
      ]
    },
    {
      "cell_type": "code",
      "source": [
        "class bms():\n",
        "    a=0\n",
        "    b=0\n",
        "    c=0\n",
        "    d=0\n",
        "    def set(self,a,b,c,d):\n",
        "        self.a=a\n",
        "        self.b=b\n",
        "        self.c=c\n",
        "        self.d=d\n",
        "    def print(self):\n",
        "        print(\"Customer name and age:  \",self.a,self.b)\n",
        "        print(\"Customer acc no:\",self.c)\n",
        "        print(\"Customer acc balance:\",self.d)\n",
        "class withdrawal(bms):\n",
        "    def drawprint(self,d,x):\n",
        "        y=int(d)-int(x)\n",
        "        print(\"Account Balance:\",y)\n",
        "class deposit(bms):\n",
        "    def withset(self,d,x):\n",
        "        c=int(d)+int(x)\n",
        "        print(\"Account Balance:\",c)\n",
        "a=input(\"ENTER YOUR NAME:\")\n",
        "b=int(input(\"ENTER YOUR AGE\"))\n",
        "c=int(input(\"ENTER YOUR ACCOUNT NUMBER\"))\n",
        "d=int(input(\"ENTER ACCOUNT BALANCE\"))\n",
        "n=int(input(\"ENTER OPTION 1.WITHDRAWAL 2.DEPOSIT\"))\n",
        "if(n==1):\n",
        "    obj=withdrawal()\n",
        "    obj.set(a,b,c,d)\n",
        "    obj.print()\n",
        "    x=int(input(\"ENTER AMOUNT TO WITHDRAWAL\"))\n",
        "    obj.drawprint(d,x)\n",
        "elif(n==2):\n",
        "    obj=deposit()\n",
        "    obj.set(a,b,c,d)\n",
        "    obj.print()\n",
        "    x = int(input(\"ENTER AMOUNT TO DEPOSIT\"))\n",
        "    obj.withset(d,x)\n",
        "else:\n",
        "    print(\"INVALID INPUT\")\n"
      ],
      "metadata": {
        "colab": {
          "base_uri": "https://localhost:8080/"
        },
        "id": "flaMjyDoqq_y",
        "outputId": "bdde900f-bd58-4ca2-8810-26c70fb5f555"
      },
      "execution_count": 3,
      "outputs": [
        {
          "output_type": "stream",
          "name": "stdout",
          "text": [
            "ENTER YOUR NAME:harsha\n",
            "ENTER YOUR AGE19\n",
            "ENTER YOUR ACCOUNT NUMBER24356789\n",
            "ENTER ACCOUNT BALANCE50000\n",
            "ENTER OPTION 1.WITHDRAWAL 2.DEPOSIT1\n",
            "Customer name and age:   harsha 19\n",
            "Customer acc no: 24356789\n",
            "Customer acc balance: 50000\n",
            "ENTER AMOUNT TO WITHDRAWAL2500\n",
            "Account Balance: 47500\n"
          ]
        }
      ]
    },
    {
      "cell_type": "code",
      "source": [
        "class bms():\n",
        "    a=0\n",
        "    b=0\n",
        "    c=0\n",
        "    d=0\n",
        "    def set(self,a,b,c,d):\n",
        "        self.a=a\n",
        "        self.b=b\n",
        "        self.c=c\n",
        "        self.d=d\n",
        "    def print(self):\n",
        "        print(\"Customer name and age:  \",self.a,self.b)\n",
        "        print(\"Customer acc no:\",self.c)\n",
        "        print(\"Customer acc balance:\",self.d)\n",
        "class withdrawal(bms):\n",
        "    def drawprint(self,d,x):\n",
        "        y=int(d)-int(x)\n",
        "        print(\"Account Balance:\",y)\n",
        "class deposit(bms):\n",
        "    def withset(self,d,x):\n",
        "        c=int(d)+int(x)\n",
        "        print(\"Account Balance:\",c)\n",
        "a=input(\"ENTER YOUR NAME:\")\n",
        "b=int(input(\"ENTER YOUR AGE\"))\n",
        "c=int(input(\"ENTER YOUR ACCOUNT NUMBER\"))\n",
        "d=int(input(\"ENTER ACCOUNT BALANCE\"))\n",
        "n=int(input(\"ENTER OPTION 1.WITHDRAWAL 2.DEPOSIT\"))\n",
        "if(n==1):\n",
        "    obj=withdrawal()\n",
        "    obj.set(a,b,c,d)\n",
        "    obj.print()\n",
        "    x=int(input(\"ENTER AMOUNT TO WITHDRAWAL\"))\n",
        "    obj.drawprint(d,x)\n",
        "elif(n==2):\n",
        "    obj=deposit()\n",
        "    obj.set(a,b,c,d)\n",
        "    obj.print()\n",
        "    x = int(input(\"ENTER AMOUNT TO DEPOSIT\"))\n",
        "    obj.withset(d,x)\n",
        "else:\n",
        "    print(\"INVALID INPUT\")"
      ],
      "metadata": {
        "colab": {
          "base_uri": "https://localhost:8080/"
        },
        "id": "9Lt9YAD6qxOG",
        "outputId": "a00742b2-4942-404d-fb64-b047ff114566"
      },
      "execution_count": 4,
      "outputs": [
        {
          "output_type": "stream",
          "name": "stdout",
          "text": [
            "ENTER YOUR NAME:harsha\n",
            "ENTER YOUR AGE19\n",
            "ENTER YOUR ACCOUNT NUMBER3546778\n",
            "ENTER ACCOUNT BALANCE1234567\n",
            "ENTER OPTION 1.WITHDRAWAL 2.DEPOSIT2\n",
            "Customer name and age:   harsha 19\n",
            "Customer acc no: 3546778\n",
            "Customer acc balance: 1234567\n",
            "ENTER AMOUNT TO DEPOSIT234654\n",
            "Account Balance: 1469221\n"
          ]
        }
      ]
    }
  ]
}