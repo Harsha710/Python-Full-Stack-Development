{
  "nbformat": 4,
  "nbformat_minor": 0,
  "metadata": {
    "colab": {
      "name": "List Operations.ipynb",
      "provenance": [],
      "authorship_tag": "ABX9TyOCtENZeTjP0oxHb14Yrqd6",
      "include_colab_link": true
    },
    "kernelspec": {
      "name": "python3",
      "display_name": "Python 3"
    },
    "language_info": {
      "name": "python"
    }
  },
  "cells": [
    {
      "cell_type": "markdown",
      "metadata": {
        "id": "view-in-github",
        "colab_type": "text"
      },
      "source": [
        "<a href=\"https://colab.research.google.com/github/Harsha710/Python-Full-Stack-Development/blob/main/List_Operations.ipynb\" target=\"_parent\"><img src=\"https://colab.research.google.com/assets/colab-badge.svg\" alt=\"Open In Colab\"/></a>"
      ]
    },
    {
      "cell_type": "code",
      "execution_count": 1,
      "metadata": {
        "id": "G5kIw4x4qFig"
      },
      "outputs": [],
      "source": [
        "my_list=['p','r','o','b','e']"
      ]
    },
    {
      "cell_type": "code",
      "source": [
        "print(my_list[0])"
      ],
      "metadata": {
        "colab": {
          "base_uri": "https://localhost:8080/"
        },
        "id": "bhshTq20qo4i",
        "outputId": "576065d0-ecdc-4636-ba0d-0e200faed0c2"
      },
      "execution_count": 10,
      "outputs": [
        {
          "output_type": "stream",
          "name": "stdout",
          "text": [
            "p\n"
          ]
        }
      ]
    },
    {
      "cell_type": "code",
      "source": [
        "n_list=[\"Happy\",[2,0,1,5]]"
      ],
      "metadata": {
        "id": "bAAMfv-Oqxs1"
      },
      "execution_count": 4,
      "outputs": []
    },
    {
      "cell_type": "code",
      "source": [
        "print(n_list[0][1])"
      ],
      "metadata": {
        "colab": {
          "base_uri": "https://localhost:8080/"
        },
        "id": "VeVKiEyArAbv",
        "outputId": "88b40e02-eec4-45b5-ad19-9be9a78cb3bb"
      },
      "execution_count": 6,
      "outputs": [
        {
          "output_type": "stream",
          "name": "stdout",
          "text": [
            "a\n"
          ]
        }
      ]
    },
    {
      "cell_type": "code",
      "source": [
        "print(my_list[-3])"
      ],
      "metadata": {
        "colab": {
          "base_uri": "https://localhost:8080/"
        },
        "id": "-jTKYhejrPt3",
        "outputId": "fe256ab6-436f-458f-c4d4-0c75530122be"
      },
      "execution_count": 8,
      "outputs": [
        {
          "output_type": "stream",
          "name": "stdout",
          "text": [
            "o\n"
          ]
        }
      ]
    },
    {
      "cell_type": "code",
      "source": [
        "mylist=['p','r','o','g','r','a','m','i','z']"
      ],
      "metadata": {
        "id": "Pa89lGebrou0"
      },
      "execution_count": 11,
      "outputs": []
    },
    {
      "cell_type": "code",
      "source": [
        "print(mylist[2:5])"
      ],
      "metadata": {
        "colab": {
          "base_uri": "https://localhost:8080/"
        },
        "id": "pU8S4x7dr6k7",
        "outputId": "64b67601-fab3-4605-c3e5-cf36ded0b047"
      },
      "execution_count": 12,
      "outputs": [
        {
          "output_type": "stream",
          "name": "stdout",
          "text": [
            "['o', 'g', 'r']\n"
          ]
        }
      ]
    },
    {
      "cell_type": "code",
      "source": [
        "print(mylist[5:])"
      ],
      "metadata": {
        "colab": {
          "base_uri": "https://localhost:8080/"
        },
        "id": "VPmJJNCtr_xE",
        "outputId": "52c99773-6855-444d-9529-1b311d958ec1"
      },
      "execution_count": 13,
      "outputs": [
        {
          "output_type": "stream",
          "name": "stdout",
          "text": [
            "['a', 'm', 'i', 'z']\n"
          ]
        }
      ]
    },
    {
      "cell_type": "code",
      "source": [
        "print(mylist[:])"
      ],
      "metadata": {
        "colab": {
          "base_uri": "https://localhost:8080/"
        },
        "id": "tDzpEoB5sFXR",
        "outputId": "8059b74d-4bff-4560-ac28-3be57ac302da"
      },
      "execution_count": 14,
      "outputs": [
        {
          "output_type": "stream",
          "name": "stdout",
          "text": [
            "['p', 'r', 'o', 'g', 'r', 'a', 'm', 'i', 'z']\n"
          ]
        }
      ]
    },
    {
      "cell_type": "code",
      "source": [
        "odd=[2,4,6,8]"
      ],
      "metadata": {
        "id": "iqjVSifPsI2v"
      },
      "execution_count": 15,
      "outputs": []
    },
    {
      "cell_type": "code",
      "source": [
        "odd[0]=1\n",
        "print(odd)"
      ],
      "metadata": {
        "colab": {
          "base_uri": "https://localhost:8080/"
        },
        "id": "1zbXSbobsQOJ",
        "outputId": "c585aa9f-2652-4e45-cdae-c95fca560c33"
      },
      "execution_count": 16,
      "outputs": [
        {
          "output_type": "stream",
          "name": "stdout",
          "text": [
            "[1, 4, 6, 8]\n"
          ]
        }
      ]
    },
    {
      "cell_type": "code",
      "source": [
        "odd[1:4]=[3,5,7]\n",
        "print(odd)"
      ],
      "metadata": {
        "colab": {
          "base_uri": "https://localhost:8080/"
        },
        "id": "_-Ir9fTAsX0N",
        "outputId": "0dd947e5-13f8-4c68-9c22-b7d9d9fcf17d"
      },
      "execution_count": 17,
      "outputs": [
        {
          "output_type": "stream",
          "name": "stdout",
          "text": [
            "[1, 3, 5, 7]\n"
          ]
        }
      ]
    },
    {
      "cell_type": "code",
      "source": [
        "odd=[1,3,5]\n"
      ],
      "metadata": {
        "id": "y5xyLY4bsev5"
      },
      "execution_count": 18,
      "outputs": []
    },
    {
      "cell_type": "code",
      "source": [
        "odd.append(7)\n",
        "print(odd)"
      ],
      "metadata": {
        "colab": {
          "base_uri": "https://localhost:8080/"
        },
        "id": "uMzjwbCMslpg",
        "outputId": "6037b847-01cb-4a14-c5c8-d6032e157b78"
      },
      "execution_count": 19,
      "outputs": [
        {
          "output_type": "stream",
          "name": "stdout",
          "text": [
            "[1, 3, 5, 7]\n"
          ]
        }
      ]
    },
    {
      "cell_type": "code",
      "source": [
        "odd=[1,3,5]\n",
        "print(odd+[9,7,5])"
      ],
      "metadata": {
        "colab": {
          "base_uri": "https://localhost:8080/"
        },
        "id": "6UBXp3JbszhR",
        "outputId": "864ce003-623a-44ce-eb26-f029d93a9841"
      },
      "execution_count": 20,
      "outputs": [
        {
          "output_type": "stream",
          "name": "stdout",
          "text": [
            "[1, 3, 5, 9, 7, 5]\n"
          ]
        }
      ]
    },
    {
      "cell_type": "code",
      "source": [
        "print([\"harsha\"]*4)"
      ],
      "metadata": {
        "colab": {
          "base_uri": "https://localhost:8080/"
        },
        "id": "U1iPI5TYs7wx",
        "outputId": "89bf0149-7e47-4107-f840-7260c2b30796"
      },
      "execution_count": 21,
      "outputs": [
        {
          "output_type": "stream",
          "name": "stdout",
          "text": [
            "['harsha', 'harsha', 'harsha', 'harsha']\n"
          ]
        }
      ]
    },
    {
      "cell_type": "code",
      "source": [
        "my_list1=['p','r','o','b','l','e','m']"
      ],
      "metadata": {
        "id": "Q-AI9vTVtDuj"
      },
      "execution_count": 23,
      "outputs": []
    },
    {
      "cell_type": "code",
      "source": [
        "del my_list1[2]\n",
        "print(my_list1)"
      ],
      "metadata": {
        "colab": {
          "base_uri": "https://localhost:8080/"
        },
        "id": "ticCDzlJtcKb",
        "outputId": "48e81d26-04c4-450d-b439-4131ab7abe1c"
      },
      "execution_count": 24,
      "outputs": [
        {
          "output_type": "stream",
          "name": "stdout",
          "text": [
            "['p', 'r', 'b', 'l', 'e', 'm']\n"
          ]
        }
      ]
    },
    {
      "cell_type": "code",
      "source": [
        "del my_list1[1:5]\n",
        "print(my_list1)"
      ],
      "metadata": {
        "colab": {
          "base_uri": "https://localhost:8080/"
        },
        "id": "mVFAI8j1tmpS",
        "outputId": "04a90ece-3a57-4c61-d1a5-b91cd7e63ff5"
      },
      "execution_count": 25,
      "outputs": [
        {
          "output_type": "stream",
          "name": "stdout",
          "text": [
            "['p', 'm']\n"
          ]
        }
      ]
    },
    {
      "cell_type": "code",
      "source": [
        "my_list2=['p','r','o','b','l','e','m']"
      ],
      "metadata": {
        "id": "r4fVyqdftsrw"
      },
      "execution_count": 28,
      "outputs": []
    },
    {
      "cell_type": "code",
      "source": [
        "print(my_list2.pop(1))"
      ],
      "metadata": {
        "colab": {
          "base_uri": "https://localhost:8080/"
        },
        "id": "w0-SFO8euQ7f",
        "outputId": "a670c952-d10f-456a-a139-848985acf128"
      },
      "execution_count": 29,
      "outputs": [
        {
          "output_type": "stream",
          "name": "stdout",
          "text": [
            "r\n"
          ]
        }
      ]
    },
    {
      "cell_type": "code",
      "source": [
        "my_list2.clear()\n",
        "print(my_list2)"
      ],
      "metadata": {
        "colab": {
          "base_uri": "https://localhost:8080/"
        },
        "id": "Z1zYarFuwDs3",
        "outputId": "6802a259-09b1-4e57-af9a-d0c139309733"
      },
      "execution_count": 30,
      "outputs": [
        {
          "output_type": "stream",
          "name": "stdout",
          "text": [
            "[]\n"
          ]
        }
      ]
    }
  ]
}