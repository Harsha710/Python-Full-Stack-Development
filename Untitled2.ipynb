{
  "nbformat": 4,
  "nbformat_minor": 0,
  "metadata": {
    "colab": {
      "name": "Untitled2.ipynb",
      "provenance": [],
      "authorship_tag": "ABX9TyP0DfsAqPAqwbRMxrcJ9/Tj",
      "include_colab_link": true
    },
    "kernelspec": {
      "name": "python3",
      "display_name": "Python 3"
    },
    "language_info": {
      "name": "python"
    }
  },
  "cells": [
    {
      "cell_type": "markdown",
      "metadata": {
        "id": "view-in-github",
        "colab_type": "text"
      },
      "source": [
        "<a href=\"https://colab.research.google.com/github/Harsha710/Python-Full-Stack-Development/blob/main/Untitled2.ipynb\" target=\"_parent\"><img src=\"https://colab.research.google.com/assets/colab-badge.svg\" alt=\"Open In Colab\"/></a>"
      ]
    },
    {
      "cell_type": "code",
      "execution_count": 1,
      "metadata": {
        "colab": {
          "base_uri": "https://localhost:8080/"
        },
        "id": "ASu9b0RJcBQ4",
        "outputId": "de550dae-4996-4036-c74e-b1cd5101df9c"
      },
      "outputs": [
        {
          "output_type": "stream",
          "name": "stdout",
          "text": [
            "{1: 1, 2: 4, 3: 9, 4: 16, 5: 25}\n",
            "Enter key to delete4\n",
            "{1: 1, 2: 4, 3: 9, 5: 25}\n"
          ]
        }
      ],
      "source": [
        "squares = {1:1, 2:4, 3:9, 4:16, 5:25}\n",
        "print(squares)\n",
        "key= int(input(\"Enter key to delete\"))\n",
        "del squares[key]\n",
        "print(squares)"
      ]
    },
    {
      "cell_type": "code",
      "source": [
        "squares = {1:1, 2:4, 3:9, 4:16, 5:25}\n",
        "print(squares)\n",
        "squares.popitem()\n",
        "print(squares)"
      ],
      "metadata": {
        "colab": {
          "base_uri": "https://localhost:8080/"
        },
        "id": "DHa_vz9ZepjY",
        "outputId": "767ba4b6-2228-4d06-b4a9-818c648c1ac1"
      },
      "execution_count": 2,
      "outputs": [
        {
          "output_type": "stream",
          "name": "stdout",
          "text": [
            "{1: 1, 2: 4, 3: 9, 4: 16, 5: 25}\n",
            "{1: 1, 2: 4, 3: 9, 4: 16}\n"
          ]
        }
      ]
    },
    {
      "cell_type": "code",
      "source": [
        "students = {1:\"SIKANDER\" , 2:\"SATYA\" , 3:\"HUSSAIN\"}\n",
        "courses = {1:\"EMBEDED\", 2:\"DATA SCIENCE\", 3:\"WEB DEVELOPMENT\"}\n",
        "\n",
        "print('List of Students')\n",
        "print(students)\n",
        "print('List of Courses')\n",
        "print(courses)\n",
        "\n",
        "students.clear()\n",
        "\n",
        "del courses\n",
        "\n",
        "print('List of Students')\n",
        "print(students)\n",
        "print('List of Courses')\n",
        "print(courses)"
      ],
      "metadata": {
        "colab": {
          "base_uri": "https://localhost:8080/",
          "height": 321
        },
        "id": "4Yz4TTSIfakG",
        "outputId": "1b07f640-76f6-4461-e7fd-ef89d2e0a356"
      },
      "execution_count": 5,
      "outputs": [
        {
          "output_type": "stream",
          "name": "stdout",
          "text": [
            "List of Students\n",
            "{1: 'SIKANDER', 2: 'SATYA', 3: 'HUSSAIN'}\n",
            "List of Courses\n",
            "{1: 'EMBEDED', 2: 'DATA SCIENCE', 3: 'WEB DEVELOPMENT'}\n",
            "List of Students\n",
            "{}\n",
            "List of Courses\n"
          ]
        },
        {
          "output_type": "error",
          "ename": "NameError",
          "evalue": "ignored",
          "traceback": [
            "\u001b[0;31m---------------------------------------------------------------------------\u001b[0m",
            "\u001b[0;31mNameError\u001b[0m                                 Traceback (most recent call last)",
            "\u001b[0;32m<ipython-input-5-a6755d282de4>\u001b[0m in \u001b[0;36m<module>\u001b[0;34m()\u001b[0m\n\u001b[1;32m     14\u001b[0m \u001b[0mprint\u001b[0m\u001b[0;34m(\u001b[0m\u001b[0mstudents\u001b[0m\u001b[0;34m)\u001b[0m\u001b[0;34m\u001b[0m\u001b[0;34m\u001b[0m\u001b[0m\n\u001b[1;32m     15\u001b[0m \u001b[0mprint\u001b[0m\u001b[0;34m(\u001b[0m\u001b[0;34m'List of Courses'\u001b[0m\u001b[0;34m)\u001b[0m\u001b[0;34m\u001b[0m\u001b[0;34m\u001b[0m\u001b[0m\n\u001b[0;32m---> 16\u001b[0;31m \u001b[0mprint\u001b[0m\u001b[0;34m(\u001b[0m\u001b[0mcourses\u001b[0m\u001b[0;34m)\u001b[0m\u001b[0;34m\u001b[0m\u001b[0;34m\u001b[0m\u001b[0m\n\u001b[0m",
            "\u001b[0;31mNameError\u001b[0m: name 'courses' is not defined"
          ]
        }
      ]
    },
    {
      "cell_type": "code",
      "source": [
        "squares = {1:1, 3:9, 5:25, 7:49, 9:81}\n",
        "\n",
        "print(\"1 in squares  :\", 1 in squares)\n",
        "\n",
        "print(\"2 not in squares  :\", 2 not in squares)\n",
        "\n",
        "print(\"49 in squares   :\", 49 in squares)"
      ],
      "metadata": {
        "colab": {
          "base_uri": "https://localhost:8080/"
        },
        "id": "lEW5Y0iFiN-O",
        "outputId": "a68313a4-9a00-4b87-981c-0330d3ee1ec5"
      },
      "execution_count": 6,
      "outputs": [
        {
          "output_type": "stream",
          "name": "stdout",
          "text": [
            "1 in squares  : True\n",
            "2 not in squares  : True\n",
            "49 in squares   : False\n"
          ]
        }
      ]
    },
    {
      "cell_type": "code",
      "source": [
        "marks = {\"Maths\" : 45 , \"Science\" : 23, \"Social\" : 38}\n",
        "\n",
        "for subject in marks:\n",
        "  print(subject)\n",
        "  \n",
        "for subject in marks:\n",
        "  score = marks[subject]\n",
        "  print(subject,\":\",score)"
      ],
      "metadata": {
        "colab": {
          "base_uri": "https://localhost:8080/"
        },
        "id": "8yMh8ra_iwED",
        "outputId": "532fe76e-6655-472f-f32d-dbdea6cff69e"
      },
      "execution_count": 7,
      "outputs": [
        {
          "output_type": "stream",
          "name": "stdout",
          "text": [
            "Maths\n",
            "Science\n",
            "Social\n",
            "Maths : 45\n",
            "Science : 23\n",
            "Social : 38\n"
          ]
        }
      ]
    },
    {
      "cell_type": "code",
      "source": [
        "marks = {\"Maths\" : 45 , \"Science\" : 23, \"Social\" : 38}\n",
        "\n",
        "print(\"Keys : \" , marks.keys())\n",
        "print(\"Values : \" , marks.values())\n",
        "  \n",
        "print(\"_ _ _ _ _ _ _ _ _ _ _ _ _ _ _ _ _ _ _\")\n",
        "for subject,score in marks.items():\n",
        "  print(subject,\":\",score)"
      ],
      "metadata": {
        "colab": {
          "base_uri": "https://localhost:8080/"
        },
        "id": "yD9QK_xajz4Z",
        "outputId": "e2a0809b-a12a-49a3-933e-7b71a975e017"
      },
      "execution_count": 9,
      "outputs": [
        {
          "output_type": "stream",
          "name": "stdout",
          "text": [
            "Keys :  dict_keys(['Maths', 'Science', 'Social'])\n",
            "Values :  dict_values([45, 23, 38])\n",
            "_ _ _ _ _ _ _ _ _ _ _ _ _ _ _ _ _ _ _\n",
            "Maths : 45\n",
            "Science : 23\n",
            "Social : 38\n"
          ]
        }
      ]
    },
    {
      "cell_type": "code",
      "source": [
        "data = \"PYTHON DICTIONARY IS AMAZING\"\n",
        "\n",
        "freq = {}\n",
        "for c in data:\n",
        "  freq[c] = freq.get(c , 0) + 1\n",
        "\n",
        "for key in freq:\n",
        "    print(key , freq[key])"
      ],
      "metadata": {
        "colab": {
          "base_uri": "https://localhost:8080/"
        },
        "id": "pkKu7tVPlYbK",
        "outputId": "bd0b5e47-3566-41ab-f388-263d7e9ba796"
      },
      "execution_count": 11,
      "outputs": [
        {
          "output_type": "stream",
          "name": "stdout",
          "text": [
            "P 1\n",
            "Y 2\n",
            "T 2\n",
            "H 1\n",
            "O 2\n",
            "N 3\n",
            "  3\n",
            "D 1\n",
            "I 4\n",
            "C 1\n",
            "A 3\n",
            "R 1\n",
            "S 1\n",
            "M 1\n",
            "Z 1\n",
            "G 1\n"
          ]
        }
      ]
    },
    {
      "cell_type": "code",
      "source": [
        "squares = {1:1, 3:9, 5:25, 7:49, 9:81}\n",
        "\n"
      ],
      "metadata": {
        "id": "yOWqJS7RnH62"
      },
      "execution_count": null,
      "outputs": []
    }
  ]
}