{
  "nbformat": 4,
  "nbformat_minor": 0,
  "metadata": {
    "colab": {
      "name": "Dictionary.ipynb",
      "provenance": [],
      "authorship_tag": "ABX9TyPq0vIHFCWyz/FKa1cha4CV",
      "include_colab_link": true
    },
    "kernelspec": {
      "name": "python3",
      "display_name": "Python 3"
    },
    "language_info": {
      "name": "python"
    }
  },
  "cells": [
    {
      "cell_type": "markdown",
      "metadata": {
        "id": "view-in-github",
        "colab_type": "text"
      },
      "source": [
        "<a href=\"https://colab.research.google.com/github/Harsha710/Python-Full-Stack-Development/blob/main/Dictionary.ipynb\" target=\"_parent\"><img src=\"https://colab.research.google.com/assets/colab-badge.svg\" alt=\"Open In Colab\"/></a>"
      ]
    },
    {
      "cell_type": "code",
      "execution_count": 8,
      "metadata": {
        "colab": {
          "base_uri": "https://localhost:8080/"
        },
        "id": "r3uotW_wk7YS",
        "outputId": "cf078e27-6f51-4c86-be8a-24e4bba90c97"
      },
      "outputs": [
        {
          "output_type": "stream",
          "name": "stdout",
          "text": [
            "23\n",
            "45\n",
            "None\n"
          ]
        }
      ],
      "source": [
        "marks= {\"Maths\" :45, \"Science\" :23, \"Social\" :38}\n",
        "print(marks[\"Science\"])\n",
        "print(marks.get(\"Maths\"))\n",
        "print(marks.get(\"Hindi\"))"
      ]
    },
    {
      "cell_type": "code",
      "source": [
        ""
      ],
      "metadata": {
        "id": "JyfVZ6hlm4cc"
      },
      "execution_count": null,
      "outputs": []
    }
  ]
}