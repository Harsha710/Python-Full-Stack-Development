{
  "nbformat": 4,
  "nbformat_minor": 0,
  "metadata": {
    "colab": {
      "name": "Array.ipynb",
      "provenance": [],
      "authorship_tag": "ABX9TyO5OGyY35+OzsXdjf5rYXIx",
      "include_colab_link": true
    },
    "kernelspec": {
      "name": "python3",
      "display_name": "Python 3"
    },
    "language_info": {
      "name": "python"
    }
  },
  "cells": [
    {
      "cell_type": "markdown",
      "metadata": {
        "id": "view-in-github",
        "colab_type": "text"
      },
      "source": [
        "<a href=\"https://colab.research.google.com/github/Harsha710/Python-Full-Stack-Development/blob/main/Array.ipynb\" target=\"_parent\"><img src=\"https://colab.research.google.com/assets/colab-badge.svg\" alt=\"Open In Colab\"/></a>"
      ]
    },
    {
      "cell_type": "code",
      "execution_count": 1,
      "metadata": {
        "colab": {
          "base_uri": "https://localhost:8080/"
        },
        "id": "oM6JWUuC1VuL",
        "outputId": "c3e37409-949c-4821-893a-c7bec3c7a653"
      },
      "outputs": [
        {
          "output_type": "stream",
          "name": "stdout",
          "text": [
            "5\n",
            "7\n",
            "11\n",
            "14\n"
          ]
        }
      ],
      "source": [
        "import array\n",
        "my_array = array.array('i',[5,7,11,14])\n",
        "\n",
        "for i in my_array:\n",
        "  print(i)"
      ]
    },
    {
      "cell_type": "code",
      "source": [
        "import array\n",
        "my_array = array.array('u',['W','e','l','c','o','m','e'])\n",
        "\n",
        "for i in my_array:\n",
        "  print(i)"
      ],
      "metadata": {
        "colab": {
          "base_uri": "https://localhost:8080/"
        },
        "id": "VlYU0ghO5Bw5",
        "outputId": "6a72dfb5-9e4c-48a8-9ec7-991b5dc7b2ff"
      },
      "execution_count": 3,
      "outputs": [
        {
          "output_type": "stream",
          "name": "stdout",
          "text": [
            "W\n",
            "e\n",
            "l\n",
            "c\n",
            "o\n",
            "m\n",
            "e\n"
          ]
        }
      ]
    },
    {
      "cell_type": "code",
      "source": [
        "from array import *\n",
        "x=array('i',[5,7,11,14])\n",
        "print(x[2])\n"
      ],
      "metadata": {
        "colab": {
          "base_uri": "https://localhost:8080/"
        },
        "id": "dHt2kvqd5mKC",
        "outputId": "d2f6b02c-fd25-49ad-d38e-73b53d6b651b"
      },
      "execution_count": 4,
      "outputs": [
        {
          "output_type": "stream",
          "name": "stdout",
          "text": [
            "11\n"
          ]
        }
      ]
    },
    {
      "cell_type": "code",
      "source": [
        "from array import *\n",
        "a = array('i',[34,56,-12,44])\n",
        "n=len(a)\n",
        "for i in range(n):\n",
        "  print(a[i],'\\t',end='')"
      ],
      "metadata": {
        "colab": {
          "base_uri": "https://localhost:8080/"
        },
        "id": "vVySQ9pE6Fp0",
        "outputId": "00eaf1ec-5771-42f9-ce88-2ede042bb589"
      },
      "execution_count": 5,
      "outputs": [
        {
          "output_type": "stream",
          "name": "stdout",
          "text": [
            "34 \t56 \t-12 \t44 \t"
          ]
        }
      ]
    },
    {
      "cell_type": "code",
      "source": [
        "\n"
      ],
      "metadata": {
        "id": "BLYnqWt_RaYn"
      },
      "execution_count": null,
      "outputs": []
    }
  ]
}